{
 "cells": [
  {
   "attachments": {},
   "cell_type": "markdown",
   "metadata": {},
   "source": [
    "# Візуалізація та робота з бібліотекою `matplotlib`\n",
    "> Після встанолення бібліотеки можливо буде потрібно рестартувати ядро Python, використайте кнопку `Restart`.\n",
    "\n",
    "> для коректного відображення графіків безпосередньо в ноутбуці має бути встановлено опцію `%matplotlib inline`"
   ]
  },
  {
   "cell_type": "code",
   "execution_count": null,
   "metadata": {},
   "outputs": [],
   "source": [
    "%pip install matplotlib\n",
    "%matplotlib inline"
   ]
  },
  {
   "attachments": {},
   "cell_type": "markdown",
   "metadata": {},
   "source": [
    "### Імпорт необхідних бібліотеки"
   ]
  },
  {
   "cell_type": "code",
   "execution_count": null,
   "metadata": {},
   "outputs": [],
   "source": [
    "import matplotlib.pyplot as plt\n",
    "import numpy as np"
   ]
  },
  {
   "attachments": {},
   "cell_type": "markdown",
   "metadata": {},
   "source": [
    "### Створення базових графіків\n",
    "\n",
    "> `plot` - базовий графік, значення Х береться з кількості елементів масив, а кожне значення елементу це величина У.\n",
    "\n",
    "> `scatter`\n",
    "\n",
    "> `bar`"
   ]
  },
  {
   "cell_type": "code",
   "execution_count": null,
   "metadata": {},
   "outputs": [],
   "source": [
    "plt.plot([1, 2, 4, 8])\n",
    "plt.show()"
   ]
  },
  {
   "attachments": {},
   "cell_type": "markdown",
   "metadata": {},
   "source": [
    "> якщо робити графік по точках то кількість елментів має бути однаковою!"
   ]
  },
  {
   "cell_type": "code",
   "execution_count": null,
   "metadata": {},
   "outputs": [],
   "source": [
    "s = 100\n",
    "rng = np.random.default_rng(seed=101)\n",
    "x = rng.integers(0, 5, size=s, endpoint=True)\n",
    "y = rng.integers(0, 100, size=s, endpoint=True)\n",
    "\n",
    "print(f\"\"\"\n",
    "X має {x.size} елементів, з них унікальні {np.unique(x)}\n",
    "По Х: Максимум {x.max()}, Мінімум {x.min()}, Середнє значення: {x.mean()}\n",
    "\n",
    "\n",
    "Y має {y.size} елементів, з них унікальних {np.unique(y).size} (не будемо виводити всі елементи)\n",
    "По Y: Максимум {y.max()}, Мінімум {y.min()}, Середнє значення: {y.mean()}\n",
    "\"\"\")"
   ]
  },
  {
   "attachments": {},
   "cell_type": "markdown",
   "metadata": {},
   "source": [
    "> можна вивести декілька графіків та додати підписи на осі"
   ]
  },
  {
   "cell_type": "code",
   "execution_count": null,
   "metadata": {},
   "outputs": [],
   "source": [
    "plt.scatter(x, y)\n",
    "plt.xlabel('x')\n",
    "plt.ylabel('y')\n",
    "plt.title('Випадкові величини х та у')\n",
    "plt.plot(y.mean().repeat(x.max()+1), \"--\")\n",
    "\n",
    "plt.show()"
   ]
  },
  {
   "attachments": {},
   "cell_type": "markdown",
   "metadata": {},
   "source": [
    "> за допомогою `np.histogram` можна знайти статистичний розподіл згенерованих значень"
   ]
  },
  {
   "cell_type": "code",
   "execution_count": null,
   "metadata": {},
   "outputs": [],
   "source": [
    "print(np.histogram(y))\n",
    "plt.hist(y)\n",
    "plt.show()"
   ]
  },
  {
   "attachments": {},
   "cell_type": "markdown",
   "metadata": {},
   "source": [
    "> візуалізація декількох графіків"
   ]
  },
  {
   "cell_type": "code",
   "execution_count": null,
   "metadata": {},
   "outputs": [],
   "source": [
    "x = np.linspace(0, 5, 100)\n",
    "ya = (5 - x)/4\n",
    "yb = (3 - x)**2\n",
    "yc = (2 - x)\n",
    "yd = np.full_like(x, 1)\n",
    "\n",
    "plt.plot(x, ya, label='y = (5 - x)/4')\n",
    "plt.plot(x, yb, label='y = (3 - x)**2')\n",
    "plt.plot(x, yc, label='y = 2 - x')\n",
    "plt.plot(x, yd, label='y = 1')\n",
    "\n",
    "plt.title('Візуалізація')\n",
    "plt.xlabel('x')\n",
    "plt.ylabel('y')\n",
    "\n",
    "plt.show()"
   ]
  }
 ],
 "metadata": {
  "kernelspec": {
   "display_name": "Python 3",
   "language": "python",
   "name": "python3"
  },
  "language_info": {
   "codemirror_mode": {
    "name": "ipython",
    "version": 3
   },
   "file_extension": ".py",
   "mimetype": "text/x-python",
   "name": "python",
   "nbconvert_exporter": "python",
   "pygments_lexer": "ipython3",
   "version": "3.12.9"
  },
  "orig_nbformat": 4,
  "vscode": {
   "interpreter": {
    "hash": "aee8b7b246df8f9039afb4144a1f6fd8d2ca17a180786b69acc140d282b71a49"
   }
  }
 },
 "nbformat": 4,
 "nbformat_minor": 2
}
