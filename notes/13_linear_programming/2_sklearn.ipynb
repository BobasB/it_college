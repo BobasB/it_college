{
 "cells": [
  {
   "cell_type": "markdown",
   "metadata": {},
   "source": [
    "# Створення моделей\n",
    "### **Метод RandomForestRegressor**\n",
    "`RandomForestRegressor` — це алгоритм машинного навчання для задач регресії, який є ансамблевим методом. Він базується на методі випадкових лісів (**Random Forest**), що комбінує велику кількість рішень від різних дерев рішень (**Decision Trees**) для підвищення точності та зменшення ризику перенавчання.\n",
    "\n",
    "#### **Основні особливості:**\n",
    "- **Ансамбль дерев:** складається з декількох дерев рішень, кожне з яких навчається на випадковій вибірці даних.\n",
    "- **Бутстреп (Bootstrap):** кожне дерево навчається на випадковій підмножині вибірки (метод підвибірки зі заміною).\n",
    "- **Випадковість розщеплень:** при кожному розщепленні вузла вибирається випадкова підмножина ознак (features).\n",
    "- **Усереднення прогнозів:** остаточний прогноз отримується шляхом усереднення прогнозів всіх дерев (на відміну від класифікації, де використовується голосування).\n",
    "\n",
    "#### **Переваги:**\n",
    "✔️ Менше схильний до перенавчання, ніж окремі дерева рішень  \n",
    "✔️ Стійкий до викидів та нерелевантних ознак  \n",
    "✔️ Вміє працювати з нелінійними залежностями  "
   ]
  },
  {
   "cell_type": "code",
   "execution_count": null,
   "metadata": {},
   "outputs": [],
   "source": [
    "import pandas as pd\n",
    "import numpy as np\n",
    "import matplotlib.pyplot as plt\n",
    "\n",
    "from sklearn.model_selection import train_test_split\n",
    "from sklearn.datasets import load_diabetes\n",
    "\n",
    "from sklearn.ensemble import RandomForestRegressor\n",
    "from sklearn.metrics import mean_squared_error, mean_absolute_error, r2_score"
   ]
  },
  {
   "cell_type": "code",
   "execution_count": null,
   "metadata": {},
   "outputs": [],
   "source": [
    "db = load_diabetes()\n",
    "X = np.array(db.data)\n",
    "y = np.array(db.target)\n",
    "print(f\"Data shape: X={X.shape} y={y.shape}\")\n",
    "X_train, X_test, y_train, y_test = train_test_split(X, y)"
   ]
  },
  {
   "cell_type": "code",
   "execution_count": null,
   "metadata": {},
   "outputs": [],
   "source": [
    "# Set the model parameters.\n",
    "n_estimators = 100\n",
    "max_depth = 6\n",
    "max_features = 3\n",
    "  \n",
    "# Create and train model.\n",
    "rf = RandomForestRegressor(n_estimators = n_estimators, max_depth = max_depth, max_features = max_features)\n",
    "rf.fit(X_train, y_train)\n",
    "  \n",
    "# Use the model to make predictions on the test dataset.\n",
    "predictions = rf.predict(X_test)"
   ]
  },
  {
   "cell_type": "code",
   "execution_count": null,
   "metadata": {},
   "outputs": [],
   "source": [
    "# Оцінюємо точність\n",
    "mse = mean_squared_error(y_test, predictions)\n",
    "print(f\"Середньоквадратична помилка (MSE): {mse:.4f}\")"
   ]
  },
  {
   "cell_type": "code",
   "execution_count": null,
   "metadata": {},
   "outputs": [],
   "source": [
    "X_grid = np.linspace(np.min(X), np.max(X), 1000).reshape(100, 10)\n",
    "y_grid_pred = rf.predict(X_grid)"
   ]
  },
  {
   "cell_type": "code",
   "execution_count": null,
   "metadata": {},
   "outputs": [],
   "source": [
    "# Візуалізація\n",
    "f = 0\n",
    "plt.scatter(X_train[:, f], y_train, label=f\"Навчальні дані {f}\", color=\"blue\", alpha=0.6)\n",
    "plt.scatter(X_test[:, f], y_test, label=f\"Тестові дані {f}\", color=\"red\", alpha=0.6)\n",
    "plt.plot(X_grid[:, f], y_grid_pred, label=f\"Прогноз RandomForest {f}\", color=\"green\")\n",
    "plt.legend()\n",
    "plt.xlabel(\"X\")\n",
    "plt.ylabel(\"y\")\n",
    "plt.title(\"Регресія з RandomForestRegressor\")\n",
    "plt.show()"
   ]
  }
 ],
 "metadata": {
  "kernelspec": {
   "display_name": "Python 3",
   "language": "python",
   "name": "python3"
  },
  "language_info": {
   "codemirror_mode": {
    "name": "ipython",
    "version": 3
   },
   "file_extension": ".py",
   "mimetype": "text/x-python",
   "name": "python",
   "nbconvert_exporter": "python",
   "pygments_lexer": "ipython3",
   "version": "3.12.9"
  }
 },
 "nbformat": 4,
 "nbformat_minor": 2
}
