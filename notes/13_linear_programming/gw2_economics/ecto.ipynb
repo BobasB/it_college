{
 "cells": [
  {
   "cell_type": "markdown",
   "metadata": {},
   "source": [
    "# Ecto statistics\n",
    "- krait shield"
   ]
  },
  {
   "cell_type": "code",
   "execution_count": null,
   "metadata": {},
   "outputs": [],
   "source": [
    "import numpy as np\n",
    "import matplotlib.pyplot as plt"
   ]
  },
  {
   "cell_type": "code",
   "execution_count": null,
   "metadata": {},
   "outputs": [],
   "source": [
    "# Завантаження даних з файлу\n",
    "data = np.loadtxt('data.txt', delimiter='\\t', dtype=int)\n",
    "# Перевірка завантажених даних\n",
    "print(\"Дані розмірність:\\n\", data.shape)\n",
    "# Колонка для Ore\n",
    "#ore_test = data[:, 0]  \n",
    "#print(f\"Перший елемент {ore_test}\")"
   ]
  },
  {
   "cell_type": "code",
   "execution_count": null,
   "metadata": {},
   "outputs": [],
   "source": [
    "price_ectoplasm = 28  # Ціна Ектоплазми\n",
    "price_ore = 0.7\n",
    "price_wood = 0.45\n",
    "price_t6 = 0.85\n",
    "price = np.array([price_ectoplasm, price_ore, price_wood])"
   ]
  },
  {
   "cell_type": "code",
   "execution_count": null,
   "metadata": {},
   "outputs": [],
   "source": [
    "r = (data * price).sum(axis=1)/250\n",
    "print(f\"Вартість одного Ітема при експерименті розщеплення {r}\")"
   ]
  },
  {
   "cell_type": "code",
   "execution_count": null,
   "metadata": {},
   "outputs": [],
   "source": [
    "# Задаємо ціни базових предметів\n",
    "prices_base = np.array([price_t6, price_ore, price_wood])  # Ціни: [T6, руда, дерево]\n",
    "\n",
    "cost_disassembly = 0.06  # Вартість розщеплення\n",
    "\n",
    "# Кількість базових предметів, необхідних для створення одного предмета\n",
    "resources_required = np.array([15, 11, 10])\n",
    "\n",
    "price_of_crafting = sum(prices_base * resources_required)\n",
    "\n",
    "print(f\"Вартість одного предмету {price_of_crafting}\")"
   ]
  },
  {
   "cell_type": "code",
   "execution_count": null,
   "metadata": {},
   "outputs": [],
   "source": [
    "# Знаходимо мін та макс для гістограми\n",
    "# Робимо крок гістограми 0.5\n",
    "bins = np.arange(np.floor(r.min()), np.ceil(r.max() + 1), 0.5)\n",
    "bins[0:]"
   ]
  },
  {
   "cell_type": "code",
   "execution_count": null,
   "metadata": {},
   "outputs": [],
   "source": [
    "plt.figure(figsize=(12, 6))\n",
    "\n",
    "plt.hist(r, bins=bins, color='skyblue', edgecolor='black', alpha=0.7, label=\"Розподіл ціни\")\n",
    "\n",
    "plt.xlabel('Значення')\n",
    "plt.ylabel('Частота')\n",
    "plt.legend()\n",
    "plt.grid(axis='y', linestyle='--', alpha=0.7)\n",
    "plt.show()"
   ]
  },
  {
   "cell_type": "code",
   "execution_count": null,
   "metadata": {},
   "outputs": [],
   "source": [
    "r_sorted = np.array(sorted(r))\n",
    "print(r_sorted)\n",
    "\n",
    "plt.figure(figsize=(12, 6))\n",
    "\n",
    "\n",
    "plt.plot(r_sorted, color='blue')\n",
    "plt.plot(np.repeat(price_of_crafting, 122), color='red')\n",
    "plt.ylabel(\"Вартість\")\n",
    "plt.xlabel(\"Номер Експерименту\")\n",
    "plt.grid()\n",
    "plt.show()"
   ]
  },
  {
   "cell_type": "code",
   "execution_count": null,
   "metadata": {},
   "outputs": [],
   "source": [
    "profit_crafting = r_sorted - price_of_crafting\n",
    "print(f\"Прибуток як різниця між вартість та отриманим результатом {profit_crafting.sum()/122}\")"
   ]
  },
  {
   "cell_type": "code",
   "execution_count": null,
   "metadata": {},
   "outputs": [],
   "source": [
    "# Завантаження даних про результати розщеплення\n",
    "ectoplasm, ore, wood = data[:, 0], data[:, 1], data[:, 2]\n",
    "\n",
    "# Розрахунок середньої кількості отриманих предметів\n",
    "avg_ectoplasm = np.mean(ectoplasm)\n",
    "avg_ore = np.mean(ore)\n",
    "avg_wood = np.mean(wood)\n",
    "\n",
    "# Розрахунок середньої виручки\n",
    "avg_revenue = avg_ectoplasm * price_ectoplasm + avg_ore * prices_base[1] + avg_wood * prices_base[2]\n",
    "\n",
    "# Розрахунок собівартості\n",
    "cost_per_item = np.sum(resources_required * prices_base) + cost_disassembly\n",
    "\n",
    "# Розрахунок прибутку\n",
    "profit = avg_revenue - cost_per_item\n",
    "\n",
    "# Виведення результатів\n",
    "print(f\"Середня кількість Ектоплами: {avg_ectoplasm:.2f}\")\n",
    "print(f\"Середня кількість руди: {avg_ore:.2f}\")\n",
    "print(f\"Середня кількість дерева: {avg_wood:.2f}\")\n",
    "print(f\"Собівартість створення одного предмета: {cost_per_item:.2f} монет\")\n",
    "print(f\"Середній прибуток: {profit:.2f} монет на одну операцію\")\n",
    "\n",
    "# Візуалізація залежності прибутку від ціни базових предметів\n",
    "prices_variation = np.linspace(10, 100, 50)  # Варіюємо ціну базових предметів\n",
    "profits = []\n",
    "\n",
    "for price in prices_variation:\n",
    "    temp_prices = np.array([price, price, price])\n",
    "    temp_cost = np.sum(resources_required * temp_prices) + cost_disassembly\n",
    "    temp_profit = avg_revenue - temp_cost\n",
    "    profits.append(temp_profit)\n",
    "\n",
    "plt.figure(figsize=(10, 6))\n",
    "plt.plot(prices_variation, profits, label=\"Прибуток\")\n",
    "plt.axhline(0, color='red', linestyle='--', label=\"Точка беззбитковості\")\n",
    "plt.xlabel(\"Ціна базових предметів (однакова для всіх)\")\n",
    "plt.ylabel(\"Прибуток\")\n",
    "plt.title(\"Залежність прибутку від ціни базових предметів\")\n",
    "plt.legend()\n",
    "plt.grid()\n",
    "plt.show()\n"
   ]
  }
 ],
 "metadata": {
  "kernelspec": {
   "display_name": "Python 3",
   "language": "python",
   "name": "python3"
  },
  "language_info": {
   "codemirror_mode": {
    "name": "ipython",
    "version": 3
   },
   "file_extension": ".py",
   "mimetype": "text/x-python",
   "name": "python",
   "nbconvert_exporter": "python",
   "pygments_lexer": "ipython3",
   "version": "3.12.9"
  }
 },
 "nbformat": 4,
 "nbformat_minor": 2
}
