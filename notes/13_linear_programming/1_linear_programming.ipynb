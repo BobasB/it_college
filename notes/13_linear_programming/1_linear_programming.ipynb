{
 "cells": [
  {
   "attachments": {},
   "cell_type": "markdown",
   "metadata": {},
   "source": [
    "> Зроблено за допомогою ChatGPT (і перероблено)"
   ]
  },
  {
   "attachments": {},
   "cell_type": "markdown",
   "metadata": {},
   "source": [
    "### Вступ\n",
    "Лінійне програмування є потужним інструментом для розв'язання задач оптимізації в багатьох галузях, включаючи економіку та бізнес. У цій навчальній записці ми розглянемо застосування лінійного програмування для оптимізації прибутків в комп'ютерних іграх з аукціоном. Ми використаємо простий приклад для ілюстрації того, як можна сформулювати задачу оптимізації як задачу лінійного програмування та як її можна розв'язати за допомогою Python."
   ]
  },
  {
   "attachments": {},
   "cell_type": "markdown",
   "metadata": {},
   "source": [
    "### Формулювання\n",
    "Допустимо, що ви граєте в комп'ютерну гру, в якій є три різних предмети, які можна купити на аукціоні. Ви хочете купити якомога більше предметів та заробити якомога більше золота на їх продажу. Ви знаєте, скільки золота ви отримаєте за кожен предмет, а також скільки золота ви готові заплатити за кожен предмет на аукціоні. Ці дані можна представити у вигляді матриці:\n",
    "\n",
    "|Предмет    |Прибуток (золото)  |Макс. вартість (золото)    |\n",
    "|:---|:---|:---|\n",
    "|1\t|10\t|8 |\n",
    "|2\t|7\t|7 |\n",
    "|3\t|5\t|12 |\n",
    "\n",
    "Ви хочете визначити, скільки кожного предмета ви повинні купити на аукціоні, щоб максимізувати свій прибуток. Давайте сформулюємо цю задачу як задачу лінійного програмування. Позначимо через $x_i$ кількість предмету $i$, який ми купуємо на аукціоні. Тоді наша мета полягає в максимізації сумарного прибутку:\n",
    "\n",
    "$$\n",
    "\\max_{x1​,x2​,x3}\\;​10x1​+7x2​+5x3\n",
    "$$\n",
    "\n",
    "При цьому ми повинні дотримуватися обмежень нашого бюджету, тобто не витрачати більше, ніж ми маємо. Обмеження можна виразити наступним чином:\n",
    "\n",
    "$$8x1​+7x2​+12x3​≤B,$$\n",
    "\n",
    "де $B$ - наш бюджет.\n",
    "\n",
    "Ці дві формули разом утворюють задачу лінійного програмування:\n",
    "\n",
    "$$\n",
    "\\begin{aligned}\n",
    "\\max_{x_1,x_2,x_3} && 10x_1 + 7x_2 + 5x_3 \\\\\n",
    "\\text{за умови} && 8x_1 + 7x_2 + 6x_3 \\leq B \\\\\n",
    "&& x_1, x_2, x_3 \\geq 0\n",
    "\\end{aligned}\n",
    "$$"
   ]
  },
  {
   "attachments": {},
   "cell_type": "markdown",
   "metadata": {},
   "source": [
    "> інсталюємо додаткові бібліотеки та імпортуємо їх"
   ]
  },
  {
   "cell_type": "code",
   "execution_count": null,
   "metadata": {},
   "outputs": [],
   "source": [
    "%pip install scipy"
   ]
  },
  {
   "cell_type": "code",
   "execution_count": null,
   "metadata": {},
   "outputs": [],
   "source": [
    "import numpy as np\n",
    "import matplotlib.pyplot as plt\n",
    "from scipy.optimize import linprog"
   ]
  },
  {
   "attachments": {},
   "cell_type": "markdown",
   "metadata": {},
   "source": [
    "> оскільки маємо 3 невідомі у рівнянні обмежень то будемо мати площину, побудуємо її"
   ]
  },
  {
   "cell_type": "code",
   "execution_count": null,
   "metadata": {},
   "outputs": [],
   "source": [
    "B = 100 # золотих\n",
    "\n",
    "x1 = np.arange(0, 20)\n",
    "x2 = np.arange(0, 20)\n",
    "x1, x2 = np.meshgrid(x1, x2)\n",
    "x3 = (B - 8*x1 - 7*x2)/12\n",
    "\n",
    "fig = plt.figure()\n",
    "ax = fig.add_subplot(111, projection='3d')\n",
    "\n",
    "ax.plot_surface(x1, x2, x3, alpha=0.5)\n",
    "ax.set_xlabel('x1')\n",
    "ax.set_ylabel('x2')\n",
    "ax.set_zlabel('x3')\n",
    "plt.title(\"Площина обмежень\")"
   ]
  },
  {
   "attachments": {},
   "cell_type": "markdown",
   "metadata": {},
   "source": [
    "> для розуміння розвязку можна зробити проекцію на вісь Х3"
   ]
  },
  {
   "cell_type": "code",
   "execution_count": null,
   "metadata": {},
   "outputs": [],
   "source": [
    "x1 = np.linspace(0, 20, 100)\n",
    "x21 = (B-8*x1)/7 # За умови що х3=0\n",
    "x31 = (B-8*x1)/12 # За умови що х2=0\n",
    "\n",
    "plt.fill_between(x1, x21, 0, where=x21<0, alpha=0.2, color='red')\n",
    "plt.fill_between(x1, x31, 0, where=x31<0, alpha=0.2, color='blue')"
   ]
  },
  {
   "attachments": {},
   "cell_type": "markdown",
   "metadata": {},
   "source": [
    "### Знаходження розвязку"
   ]
  },
  {
   "cell_type": "code",
   "execution_count": null,
   "metadata": {},
   "outputs": [],
   "source": [
    "# обертаємо задачу на знаходження мінімуму\n",
    "c = np.array([10, 7, 5])\n",
    "\n",
    "# Записуємо матрицю умов (з коефіцієнтів рівнянь)\n",
    "A = np.array([\n",
    "    [8, 7, 12]\n",
    "])\n",
    "\n",
    "# Записуємо матрицю розвязків\n",
    "b = np.array([B])\n",
    "\n",
    "# Записуємо вектор обмежень області значень\n",
    "bnd = [(0, None), (0, None), (0, None)]\n",
    "\n",
    "# Знаходимо розвязки задачі\n",
    "res = linprog(-c, A_ub=A, b_ub=b, bounds=bnd)\n",
    "\n",
    "x1, x2, x3 = res.x\n",
    "profit = -res.fun\n",
    "\n",
    "# Результати\n",
    "print(f\"Кількість предмету 1: {x1}\")\n",
    "print(f\"Кількість предмету 2: {x2}\")\n",
    "print(f\"Кількість предмету 3: {x3}\")\n",
    "print(f\"Загальний прибуток: {profit} золотих\")"
   ]
  }
 ],
 "metadata": {
  "kernelspec": {
   "display_name": "Python 3",
   "language": "python",
   "name": "python3"
  },
  "language_info": {
   "codemirror_mode": {
    "name": "ipython",
    "version": 3
   },
   "file_extension": ".py",
   "mimetype": "text/x-python",
   "name": "python",
   "nbconvert_exporter": "python",
   "pygments_lexer": "ipython3",
   "version": "3.10.6"
  },
  "orig_nbformat": 4
 },
 "nbformat": 4,
 "nbformat_minor": 2
}
