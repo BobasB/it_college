{
 "cells": [
  {
   "attachments": {},
   "cell_type": "markdown",
   "metadata": {},
   "source": [
    "Зроблено за допомогою ChatGPT"
   ]
  },
  {
   "attachments": {},
   "cell_type": "markdown",
   "metadata": {},
   "source": [
    "### Вступ\n",
    "Лінійне програмування є потужним інструментом для розв'язання задач оптимізації в багатьох галузях, включаючи економіку та бізнес. У цій навчальній записці ми розглянемо застосування лінійного програмування для оптимізації прибутків в комп'ютерних іграх з аукціоном. Ми використаємо простий приклад для ілюстрації того, як можна сформулювати задачу оптимізації як задачу лінійного програмування та як її можна розв'язати за допомогою Python."
   ]
  },
  {
   "attachments": {},
   "cell_type": "markdown",
   "metadata": {},
   "source": [
    "### Приклад\n",
    "Допустимо, що ви граєте в комп'ютерну гру, в якій є три різних предмети, які можна купити на аукціоні. Ви хочете купити якомога більше предметів та заробити якомога більше золота на їх продажу. Ви знаєте, скільки золота ви отримаєте за кожен предмет, а також скільки золота ви готові заплатити за кожен предмет на аукціоні. Ці дані можна представити у вигляді матриці:\n",
    "\n",
    "|Предмет\t|Прибуток (золото)\t|Макс. вартість (золото)|\n",
    "|---|---|---|\n",
    "|1\t|10\t|8 |\n",
    "|2\t|7\t|7 |\n",
    "|3\t|5\t|6 |\n",
    "\n",
    "Ви хочете визначити, скільки кожного предмета ви повинні купити на аукціоні, щоб максимізувати свій прибуток. Давайте сформулюємо цю задачу як задачу лінійного програмування. Позначимо через $x_i$ кількість предмету $i$, який ми купуємо на аукціоні. Тоді наша мета полягає в максимізації сумарного прибутку:\n",
    "\n",
    "$$\n",
    "max_{x1​,x2​,x3} ​10x1​+7x2​+5x3\n",
    "$$\n",
    "\n",
    "При цьому ми повинні дотримуватися обмежень нашого бюджету, тобто не витрачати більше, ніж ми маємо. Обмеження можна виразити наступним чином:\n",
    "\n",
    "$$8x1​+7x2​+6x3​≤B,$$\n",
    "\n",
    "де $B$ - наш бюджет.\n",
    "\n",
    "Ці дві формули разом утворюють задачу лінійного програмування:\n",
    "\n",
    "$$max ​10x1​+7x2​+5x3$$\n",
    "$$​за умови ​​8x1​+7x2​+6x3​≤B$$\n",
    "$$x1​,x2​,x3​≥0$$"
   ]
  },
  {
   "cell_type": "code",
   "execution_count": 2,
   "metadata": {},
   "outputs": [
    {
     "ename": "LinAlgError",
     "evalue": "Last 2 dimensions of the array must be square",
     "output_type": "error",
     "traceback": [
      "\u001b[1;31m---------------------------------------------------------------------------\u001b[0m",
      "\u001b[1;31mLinAlgError\u001b[0m                               Traceback (most recent call last)",
      "\u001b[1;32mc:\\IT_College_Main\\it_college\\notes\\13\\1_linear_programming.ipynb Cell 4\u001b[0m in \u001b[0;36m<cell line: 18>\u001b[1;34m()\u001b[0m\n\u001b[0;32m     <a href='vscode-notebook-cell:/c%3A/IT_College_Main/it_college/notes/13/1_linear_programming.ipynb#W0sZmlsZQ%3D%3D?line=14'>15</a>\u001b[0m b \u001b[39m=\u001b[39m np\u001b[39m.\u001b[39marray([\u001b[39m8\u001b[39m, \u001b[39m7\u001b[39m, \u001b[39m6\u001b[39m, \u001b[39m1000\u001b[39m])\n\u001b[0;32m     <a href='vscode-notebook-cell:/c%3A/IT_College_Main/it_college/notes/13/1_linear_programming.ipynb#W0sZmlsZQ%3D%3D?line=16'>17</a>\u001b[0m \u001b[39m# Solve the linear programming problem\u001b[39;00m\n\u001b[1;32m---> <a href='vscode-notebook-cell:/c%3A/IT_College_Main/it_college/notes/13/1_linear_programming.ipynb#W0sZmlsZQ%3D%3D?line=17'>18</a>\u001b[0m res \u001b[39m=\u001b[39m np\u001b[39m.\u001b[39;49mlinalg\u001b[39m.\u001b[39;49msolve(A, \u001b[39m-\u001b[39;49mc)\n\u001b[0;32m     <a href='vscode-notebook-cell:/c%3A/IT_College_Main/it_college/notes/13/1_linear_programming.ipynb#W0sZmlsZQ%3D%3D?line=19'>20</a>\u001b[0m \u001b[39m# Print the results\u001b[39;00m\n\u001b[0;32m     <a href='vscode-notebook-cell:/c%3A/IT_College_Main/it_college/notes/13/1_linear_programming.ipynb#W0sZmlsZQ%3D%3D?line=20'>21</a>\u001b[0m \u001b[39mprint\u001b[39m(res)\n",
      "File \u001b[1;32m<__array_function__ internals>:180\u001b[0m, in \u001b[0;36msolve\u001b[1;34m(*args, **kwargs)\u001b[0m\n",
      "File \u001b[1;32mc:\\Users\\Admin\\AppData\\Local\\Programs\\Python\\Python310\\lib\\site-packages\\numpy\\linalg\\linalg.py:387\u001b[0m, in \u001b[0;36msolve\u001b[1;34m(a, b)\u001b[0m\n\u001b[0;32m    385\u001b[0m a, _ \u001b[39m=\u001b[39m _makearray(a)\n\u001b[0;32m    386\u001b[0m _assert_stacked_2d(a)\n\u001b[1;32m--> 387\u001b[0m _assert_stacked_square(a)\n\u001b[0;32m    388\u001b[0m b, wrap \u001b[39m=\u001b[39m _makearray(b)\n\u001b[0;32m    389\u001b[0m t, result_t \u001b[39m=\u001b[39m _commonType(a, b)\n",
      "File \u001b[1;32mc:\\Users\\Admin\\AppData\\Local\\Programs\\Python\\Python310\\lib\\site-packages\\numpy\\linalg\\linalg.py:204\u001b[0m, in \u001b[0;36m_assert_stacked_square\u001b[1;34m(*arrays)\u001b[0m\n\u001b[0;32m    202\u001b[0m m, n \u001b[39m=\u001b[39m a\u001b[39m.\u001b[39mshape[\u001b[39m-\u001b[39m\u001b[39m2\u001b[39m:]\n\u001b[0;32m    203\u001b[0m \u001b[39mif\u001b[39;00m m \u001b[39m!=\u001b[39m n:\n\u001b[1;32m--> 204\u001b[0m     \u001b[39mraise\u001b[39;00m LinAlgError(\u001b[39m'\u001b[39m\u001b[39mLast 2 dimensions of the array must be square\u001b[39m\u001b[39m'\u001b[39m)\n",
      "\u001b[1;31mLinAlgError\u001b[0m: Last 2 dimensions of the array must be square"
     ]
    }
   ],
   "source": [
    "import numpy as np\n",
    "#from scipy.optimize import linprog\n",
    "\n",
    "# Objective function coefficients\n",
    "c = np.array([-10, -7, -5])\n",
    "\n",
    "# Constraint matrix\n",
    "A = np.array([\n",
    "    [1, 0, 0],\n",
    "    [0, 1, 0],\n",
    "    [0, 0, 1],\n",
    "    [10, 7, 5]\n",
    "])\n",
    "\n",
    "# Upper bound constraint vector\n",
    "b = np.array([8, 7, 6, 1000])\n",
    "\n",
    "# Solve the linear programming problem\n",
    "res = np.linalg.solve(A, -c)\n",
    "\n",
    "# Print the results\n",
    "print(res)"
   ]
  }
 ],
 "metadata": {
  "kernelspec": {
   "display_name": "Python 3",
   "language": "python",
   "name": "python3"
  },
  "language_info": {
   "codemirror_mode": {
    "name": "ipython",
    "version": 3
   },
   "file_extension": ".py",
   "mimetype": "text/x-python",
   "name": "python",
   "nbconvert_exporter": "python",
   "pygments_lexer": "ipython3",
   "version": "3.10.6"
  },
  "orig_nbformat": 4
 },
 "nbformat": 4,
 "nbformat_minor": 2
}
