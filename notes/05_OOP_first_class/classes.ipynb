{
 "cells": [
  {
   "cell_type": "markdown",
   "metadata": {},
   "source": [
    "### Створюємо базовий клас\n",
    "- виведіть ти ствоненого обєкта"
   ]
  },
  {
   "cell_type": "code",
   "execution_count": null,
   "metadata": {},
   "outputs": [],
   "source": [
    "class MyAnimals:\n",
    "    pass\n",
    "\n",
    "a = MyAnimals()"
   ]
  },
  {
   "cell_type": "markdown",
   "metadata": {},
   "source": [
    "### Порівняння простих даних з обєктами\n",
    "- перейменуйте всі обєкти a1-a3 та виведіть їх"
   ]
  },
  {
   "cell_type": "code",
   "execution_count": null,
   "metadata": {},
   "outputs": [],
   "source": [
    "animals = [\"Рибки\", \"Кіт\", \"Собака\"]\n",
    "name = [\"Неони\", \"Мурка\", \"Рекс\"]\n",
    "age = [1, 5, 2]\n",
    "\n",
    "print(f\"В мене є тваринка {animals[1]} яку звати {name[1]} які {age[1]} років\")\n",
    "\n",
    "class MyAnimals:\n",
    "    def __init__(self, animals, name, age, mass = None) -> None:\n",
    "        print(f\"В мене є тваринка {animals} яку звати {name} які {age} років\")\n",
    "        self.animals = animals\n",
    "        self.name = name\n",
    "        self.age = age\n",
    "        self.mass = 0 if mass==None else mass\n",
    "\n",
    "\n",
    "a1 = MyAnimals(\"Рибки\", \"Неони\", 1)\n",
    "a2 = MyAnimals(\"Кіт\", \"Мурка\", 5, 10)\n",
    "a3 = MyAnimals(animals=\"Собака\", name=\"Рекс\", age=2)\n",
    "\n",
    "print(a2.name)\n",
    "a2.name = \"Машка\"\n",
    "print(f\"Я переіменував свою тваринку на {a2.name}, вона важить {a2.mass} кг\")\n",
    "\n",
    "print(f\"Моя тваринка {a1.name}, вона важить {a1.mass} кг\")"
   ]
  },
  {
   "cell_type": "markdown",
   "metadata": {},
   "source": [
    "### Методи класу\n",
    "- застосуйте методи класу до всіх обєктів a1-a3 "
   ]
  },
  {
   "cell_type": "code",
   "execution_count": null,
   "metadata": {},
   "outputs": [],
   "source": [
    "class MyAnimals:\n",
    "    def __init__(self, animals, name, age, mass = None) -> None:\n",
    "        print(f\"В мене є тваринка {animals} яку звати {name} які {age} років\")\n",
    "        self.animals = animals\n",
    "        self.name = name\n",
    "        self.age = age\n",
    "        self.mass = 0 if mass==None else mass\n",
    "    \n",
    "    def speak(self):\n",
    "        if self.animals == \"Кіт\":\n",
    "            return f\"Моя Тваринка {self.animals} говорить Мяууу\"\n",
    "        elif self.animals == \"Собака\":\n",
    "            return f\"Моя Тваринка {self.animals} говорить Гавв\"\n",
    "        else:\n",
    "            return f\"Моя Тваринка {self.animals} не розмовляє\"\n",
    "    \n",
    "    def add_one_year(self):\n",
    "        self.age += 1\n",
    "        return f\"Моя Тваринка {self.animals} прожила за мною один рік\"\n",
    "\n",
    "a1 = MyAnimals(\"Рибки\", \"Неони\", 1)\n",
    "a2 = MyAnimals(\"Кіт\", \"Мурка\", 5, 10)\n",
    "a3 = MyAnimals(animals=\"Собака\", name=\"Рекс\", age=2)\n",
    "\n",
    "print(f\"Тваринка {a1.animals}:\", a1.speak())\n",
    "\n",
    "print(f\"Тваринка {a3.animals}:\", a3.speak())\n",
    "\n",
    "\n",
    "print(f\"{a1.animals} живе зі мною {a1.age} років\")\n",
    "print(a1.add_one_year())\n",
    "print(f\"{a1.animals} живе зі мною {a1.age} років\")\n",
    "\n",
    "print(a1.age)\n"
   ]
  },
  {
   "cell_type": "markdown",
   "metadata": {},
   "source": [
    "### Змінні класу, глобальні змінні над всіма обєктами\n",
    "- задайте декілька обєктів в циклі та виведіть глобальну змінну"
   ]
  },
  {
   "cell_type": "code",
   "execution_count": null,
   "metadata": {},
   "outputs": [],
   "source": [
    "class MyAnimals:\n",
    "    total_animals = 0\n",
    "    total_animal_types = set()\n",
    "\n",
    "    def __init__(self, animals, name, age, mass = None) -> None:\n",
    "        print(f\"В мене є тваринка {animals} яку звати {name} які {age} років\")\n",
    "        self.animals = animals\n",
    "        self.name = name\n",
    "        self.age = age\n",
    "        self.mass = 0 if mass==None else mass\n",
    "        MyAnimals.total_animal_types.add(animals)\n",
    "        MyAnimals.total_animals += 1\n",
    "\n",
    "print(f\"В мене зараз є тваринки {list(MyAnimals.total_animal_types)}, їх кількість {MyAnimals.total_animals}\")\n",
    "a1 = MyAnimals(\"Рибки\", \"Неони\", 1)\n",
    "MyAnimals(\"Рибки\", \"Гупії\", 1)\n",
    "MyAnimals(\"Рибки\", \"Соміки\", 1)\n",
    "MyAnimals(\"Кіт\", \"Мурка\", 5, 10)\n",
    "print(f\"В мене зараз є тваринки {list(MyAnimals.total_animal_types)}, їх кількість {MyAnimals.total_animals}\")\n",
    "\n",
    "print(f\"Я доступаюсь до змінної класу з обєкта {a1.total_animal_types}\")\n",
    "a1.total_animal_types = {\"Собака\"} # я зробив змінну класу атрибутом обєкту\n",
    "print(f\"Я доступаюсь до змінної класу з обєкта {a1.total_animal_types} та з класу {MyAnimals.total_animal_types}\")"
   ]
  },
  {
   "cell_type": "markdown",
   "metadata": {},
   "source": [
    "### Статичні методи та змінна self\n",
    "- викличте статичний метод для кожного обєкта a1-a2"
   ]
  },
  {
   "cell_type": "code",
   "execution_count": null,
   "metadata": {},
   "outputs": [],
   "source": [
    "class MyAnimals:\n",
    "    def __init__(self, animals, name, age) -> None:\n",
    "        self.animals = animals\n",
    "        self.name = name\n",
    "        self.age = age\n",
    "    \n",
    "    def add_one_year(self):\n",
    "        self.age += 1\n",
    "        return f\"Моя Тваринка {self.animals} прожила за мною один рік\"\n",
    "\n",
    "    @staticmethod\n",
    "    def call_pet():\n",
    "        return \"Тваринка біжить до нас\"\n",
    "\n",
    "\n",
    "a1 = MyAnimals(\"Рибки\", \"Гупії\", 1)\n",
    "a2 = MyAnimals(\"Кіт\", \"Мурка\", 5)\n",
    "\n",
    "print(f\"Ми кличемо нашу тваринку за допомогою статичного методу з обєкту |{a1.call_pet()}| та з класу |{MyAnimals.call_pet()}|\")\n",
    "\n",
    "print(f\"Викликаю метод з обєкту |{a1.add_one_year()}| та з класу |{MyAnimals.add_one_year(a1)}|\")"
   ]
  },
  {
   "cell_type": "markdown",
   "metadata": {},
   "source": [
    "### Робота з properties\n",
    "- додайте ще одну properties та виведіть її"
   ]
  },
  {
   "cell_type": "code",
   "execution_count": null,
   "metadata": {},
   "outputs": [],
   "source": [
    "from datetime import datetime\n",
    "class MyAnimals:\n",
    "    max_age = 20\n",
    "    def __init__(self, animals, name, age) -> None:\n",
    "        self.animals = animals\n",
    "        self.name = name\n",
    "        self.age = age\n",
    "    \n",
    "    @property\n",
    "    def live_untill(self):\n",
    "        return datetime.today().year - self.age + self.max_age\n",
    "    \n",
    "    def add_one_year(self):\n",
    "        self.age += 1\n",
    "        return f\"Моя Тваринка {self.animals} прожила за мною один рік\"\n",
    "\n",
    "\n",
    "a1 = MyAnimals(\"Кіт\", \"Мурка\", 5)\n",
    "print(f\"Мій {a1.animals} будже зі мною до {a1.live_untill} року\")\n",
    "a1.add_one_year()\n",
    "print(f\"Мій {a1.animals} будже зі мною до {a1.live_untill} року\")"
   ]
  },
  {
   "cell_type": "markdown",
   "metadata": {},
   "source": [
    "### Методи Класу\n",
    "- допишіть метод класу який буде превіряти що атрибут name заданий з великої букви "
   ]
  },
  {
   "cell_type": "code",
   "execution_count": null,
   "metadata": {},
   "outputs": [],
   "source": [
    "class MyAnimals:\n",
    "    total_csv = int(0)\n",
    "    total_objects = int(0)\n",
    "    def __init__(self, animals, name, age) -> None:\n",
    "        self.animals = animals\n",
    "        self.name = name\n",
    "        self.age = age\n",
    "        MyAnimals.total_objects += 1\n",
    "\n",
    "    @classmethod\n",
    "    def from_csv(cls, csv_data:str):\n",
    "        cls.total_csv += 1\n",
    "        animal, name, age = csv_data.split(\",\")\n",
    "        return cls(animal, name, age)\n",
    "\n",
    "a1 = MyAnimals.from_csv(\"Кіт,Мурка,5\")\n",
    "a2 = MyAnimals(\"Собака\", \"Рекс\", 2)\n",
    "\n",
    "print(f\"Мій {a1.animals}, звати {a1.name}, має {a1.age} років\")\n",
    "print(f\"Мій {a2.animals}, звати {a2.name}, має {a2.age} років\")\n",
    "print(f\"Загальна кількість обєктів {MyAnimals.total_objects} а створених з csv формату {MyAnimals.total_csv}\")"
   ]
  },
  {
   "cell_type": "markdown",
   "metadata": {},
   "source": [
    "### Приватні атрибути та методи"
   ]
  },
  {
   "cell_type": "code",
   "execution_count": null,
   "metadata": {},
   "outputs": [],
   "source": [
    "class MyAnimals:\n",
    "    def __init__(self, animals, name, age) -> None:\n",
    "        self.animals = animals\n",
    "        self.name = name\n",
    "        self.age = age\n",
    "        self._secret_phrase = \"Це приватний атрибут, (як я буду кликати свою тваринку)\"\n",
    "        self.__secret_strong = \"Цей атрибут точно не можна викликати ззовні!!\"\n",
    "    \n",
    "    @property\n",
    "    def secret_phrase(self):\n",
    "        return f\"Ми доступаємось до приватного атрибуту з проперті: {self._secret_phrase}\"\n",
    "    \n",
    "    @property\n",
    "    def secret_strong(self):\n",
    "        return f\"Ми доступаємось до приватного атрибуту з проперті: {self.__secret_strong}\"\n",
    "\n",
    "    def _secret_methid(self):\n",
    "        return \"Приватний метод, краще його не рухати, він щось робить потрібне всередині класу\"\n",
    "\n",
    "    def __do_not_touch_it(self):\n",
    "        return \"Це неможливо викликати ззовні\"\n",
    "    \n",
    "\n",
    "\n",
    "a1 = MyAnimals(\"Собака\", \"Рекс\", 2)\n",
    "\n",
    "print(a1._secret_phrase)\n",
    "a1._secret_phrase = \"Я змінив приватний атрибут\"  ## Такого робити не треба!\n",
    "print(a1._secret_phrase)\n",
    "\n",
    "## a1.__secret_strong ## Це видасть помилку!\n",
    "print(a1._MyAnimals__secret_strong) ### Так також робити не можна!\n",
    "\n",
    "### Виводимо приватний атрибут через проперті\n",
    "print(a1.secret_phrase)\n",
    "#a1.secret_phrase = \"З проперті так зробити не можна! це видасть помилку\"\n",
    "\n",
    "print(a1.secret_strong)\n",
    "\n",
    "print(a1._secret_methid())\n",
    "\n",
    "#a1.__do_not_touch_it() ##Це виклик видасть помилку!"
   ]
  },
  {
   "cell_type": "markdown",
   "metadata": {},
   "source": [
    "### Магічні методи"
   ]
  },
  {
   "cell_type": "code",
   "execution_count": null,
   "metadata": {},
   "outputs": [],
   "source": [
    "class MyAnimals:\n",
    "    def __init__(self, animals, name, age) -> None:\n",
    "        self.animals = animals\n",
    "        self.name = name\n",
    "        self.age = age\n",
    "\n",
    "    def __repr__(self) -> str:\n",
    "        return f'MyAnimals(\"{self.animals}\", \"{self.name}\", {self.age})'\n",
    "\n",
    "    def __str__(self) -> str:\n",
    "        return f\"Це є обєкт {self.__repr__()}\"\n",
    "\n",
    "a1 = MyAnimals(\"Собака\", \"Рекс\", 2)\n",
    "print(a1)\n",
    "\n",
    "print(repr(a1))\n",
    "\n",
    "str(a1)"
   ]
  },
  {
   "cell_type": "markdown",
   "metadata": {},
   "source": [
    "### Арифметичні методи"
   ]
  },
  {
   "cell_type": "code",
   "execution_count": null,
   "metadata": {},
   "outputs": [],
   "source": [
    "a = 2\n",
    "b = 5\n",
    "c = \"C\"\n",
    "\n",
    "print(a+b, a - int(1),  a * b, str(a) + c)\n",
    "\n",
    "print(a.__add__(b), a.__sub__(int(1)), a.__mul__(b))\n",
    "\n",
    "class MyAnimals:\n",
    "    def __init__(self, animals, name, age) -> None:\n",
    "        self.animals = animals\n",
    "        self.name = name\n",
    "        self.age = age\n",
    "\n",
    "    def __sub__(self, obj):\n",
    "        if isinstance(obj, MyAnimals):\n",
    "            return f\"Мій {self.name} покусав {obj.name}\"\n",
    "        elif isinstance(obj, int):\n",
    "            self.age += obj\n",
    "            return f\"Мій {self.name} постарів на {obj} років, тепер йому {self.age}\"\n",
    "        return NotImplementedError\n",
    "    \n",
    "    def __gt__(self, obj):\n",
    "        if isinstance(obj, MyAnimals):\n",
    "            if self.age > obj.age:\n",
    "                return f\"Старшим є {self.name}\"\n",
    "            return f\"{self.name} не є старшим за {obj.name}\"\n",
    "        return NotImplementedError\n",
    "\n",
    "    def __len__(self) -> int:\n",
    "        print(\"Ми зайшли в метон len, та знаходимо довжину Імені тваринки\")\n",
    "        return len(self.name)\n",
    "            \n",
    "        \n",
    "\n",
    "a = MyAnimals(\"Собака\", \"Рекс\", 2)\n",
    "b = MyAnimals(\"Кіт\", \"Мурзик\", 4)\n",
    "print(a - b)\n",
    "print(a - 1)\n",
    "print(a - float(1))\n",
    "\n",
    "print(a > b)\n",
    "\n",
    "print(b > a)\n",
    "\n",
    "len(a)"
   ]
  }
 ],
 "metadata": {
  "kernelspec": {
   "display_name": "Python 3",
   "language": "python",
   "name": "python3"
  },
  "language_info": {
   "codemirror_mode": {
    "name": "ipython",
    "version": 3
   },
   "file_extension": ".py",
   "mimetype": "text/x-python",
   "name": "python",
   "nbconvert_exporter": "python",
   "pygments_lexer": "ipython3",
   "version": "3.12.9"
  },
  "orig_nbformat": 4
 },
 "nbformat": 4,
 "nbformat_minor": 2
}
