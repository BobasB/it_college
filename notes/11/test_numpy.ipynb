{
 "cells": [
  {
   "cell_type": "code",
   "execution_count": 23,
   "metadata": {},
   "outputs": [
    {
     "name": "stdout",
     "output_type": "stream",
     "text": [
      "[20.1, 20.1, 20.2, 20.4]\n",
      "[20.1, 20.1, 20.2, 20.4, 20.1, 20.1, 20.2, 20.4, 20.1, 20.1, 20.2, 20.4, 20.1, 20.1, 20.2, 20.4, 20.1, 20.1, 20.2, 20.4]\n",
      "[100.5, 100.5, 101.0, 102.0]\n",
      "[20.1 20.1 20.2 20.4]\n",
      "[100.5 100.5 101.  102. ]\n"
     ]
    }
   ],
   "source": [
    "import numpy as np\n",
    "temperature = [20.1, 20.1, 20.2, 20.4]\n",
    "print(temperature)\n",
    "\n",
    "t1 = temperature * 5\n",
    "\n",
    "print(t1) # чому так?\n",
    "t1 = [ x*5 for x in temperature] \n",
    "print(t1)\n",
    "\n",
    "t2 = np.array(temperature)\n",
    "\n",
    "print(t2)\n",
    "\n",
    "t3 = t2 * 5\n",
    "\n",
    "print(t3)\n",
    "\n",
    "# Vectors \n",
    "vector_row = np.array([[1, -5, 3, 2, 4]])\n",
    "vector_column = np.array([[1], \n",
    "                          [2], \n",
    "                          [3], \n",
    "                          [4]])\n",
    "print(vector_row.shape)\n",
    "print(vector_column.shape)\n",
    "\n",
    "# Matrics"
   ]
  }
 ],
 "metadata": {
  "kernelspec": {
   "display_name": "Python 3.10.8 64-bit",
   "language": "python",
   "name": "python3"
  },
  "language_info": {
   "codemirror_mode": {
    "name": "ipython",
    "version": 3
   },
   "file_extension": ".py",
   "mimetype": "text/x-python",
   "name": "python",
   "nbconvert_exporter": "python",
   "pygments_lexer": "ipython3",
   "version": "3.10.8"
  },
  "orig_nbformat": 4,
  "vscode": {
   "interpreter": {
    "hash": "aee8b7b246df8f9039afb4144a1f6fd8d2ca17a180786b69acc140d282b71a49"
   }
  }
 },
 "nbformat": 4,
 "nbformat_minor": 2
}
