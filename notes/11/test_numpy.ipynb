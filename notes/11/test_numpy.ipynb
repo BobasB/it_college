{
 "cells": [
  {
   "cell_type": "markdown",
   "metadata": {},
   "source": [
    "### Робота з бібліотекою Numpy\n",
    "> Після встанолення бібліотеки можливо буде потрібно рестартувати ядро Python, використайте кнопку `Restart`."
   ]
  },
  {
   "cell_type": "code",
   "execution_count": null,
   "metadata": {},
   "outputs": [],
   "source": [
    "%pip install numpy"
   ]
  },
  {
   "cell_type": "code",
   "execution_count": null,
   "metadata": {},
   "outputs": [],
   "source": [
    "import numpy as np\n",
    "temperature = [20.1, 20.1, 20.2, 20.4]\n",
    "print(temperature)\n",
    "\n",
    "t1 = temperature * 5\n",
    "\n",
    "print(f\"При множенні на 5 маємо: {t1}\")\n",
    "print(\"\\n>>>>> Чому так? \\n\")\n",
    "t1 = [ x*5 for x in temperature] \n",
    "print(f\"Тепер отримаємо: {t1}\") \n",
    "print(\"\\n>>>>> Чому так? \\n\")\n",
    "\n",
    "t2 = np.array(temperature)\n",
    "\n",
    "print(\"Масив з використанням методів NumPy\", t2)\n",
    "\n",
    "t3 = t2 * 5\n",
    "\n",
    "print(\"При множенні на 5 отримуємо:\", t3)"
   ]
  },
  {
   "cell_type": "markdown",
   "metadata": {},
   "source": [
    "### Вектори, створення та робота з ними"
   ]
  },
  {
   "cell_type": "code",
   "execution_count": null,
   "metadata": {},
   "outputs": [],
   "source": [
    "print(\"Все можна сторити ручну за допомогою методу np.array передавши йому набір значень у вигляді List:\")\n",
    "vector_row = np.array([[1, -5, 3, 2, 4]])\n",
    "vector_column = np.array([[1], \n",
    "                          [2], \n",
    "                          [3], \n",
    "                          [4]])\n",
    "print(vector_row, \"\\nВектор має розмір\", vector_row.shape)\n",
    "print(vector_column, \"\\nВектор має розмір\", vector_column.shape)"
   ]
  },
  {
   "cell_type": "markdown",
   "metadata": {},
   "source": [
    "#### Метод arange - генерує послідовність чисел з певним кроком у заданому інтервалі"
   ]
  },
  {
   "cell_type": "code",
   "execution_count": null,
   "metadata": {},
   "outputs": [],
   "source": [
    "size_of_vec = 100\n",
    "x = range(size_of_vec)\n",
    "a = np.arange(size_of_vec)\n",
    "print(f\"Масив згенерований простим range: {x[0:5]} та методом arange: {a[0:5]}\")\n",
    "print(\"\\n>>>>> Виведіть весь діапазон чисел. \\n\")\n",
    "\n",
    "start = 5\n",
    "a = np.arange(start, size_of_vec)\n",
    "print(f\"Можемо задавати початок генерації вектора, перший елемент: {a[0]}\")\n",
    "print(\"\\n>>>>>  Виведіть останній діапазон в згенерованому масиві. \\n\")\n",
    "\n",
    "x = range(start, size_of_vec)\n",
    "print(\"Те саме але з вбудованою функцією range:\", x)\n",
    "print(\"Власне вивід значень:\", list(x)[0], )\n",
    "print(\"\\n>>>>> Виведіть якесь число з середини діапазону. \\n\")\n",
    "\n",
    "# дробові числа\n",
    "x = np.arange(10.4)\n",
    "print(\"Будем мати:\", x)\n",
    "# крок\n",
    "x = np.arange(0.5, 4, 0.5)\n",
    "print(\"З кроком 0.5:\", x)\n",
    "# Заокруглення\n",
    "x = np.arange(0.04, 1.84, 0.08)\n",
    "print(\"З кроком 0.08:\", x, \"\\n Зерніть уагу на заокруглення\")\n",
    "print(\"\\n>>>>> Згенеруйте значення де крок буде мати чотири нулі після коми, яким буде результат?\\n\")\n",
    "y = x * 2.5\n",
    "print(\"Після перемноження:\", y)\n",
    "print(\"\\n>>>>> Піднесіть отримане число до степеня та поділіть на 0.4 - Яким буде результат. \\n\")"
   ]
  },
  {
   "cell_type": "markdown",
   "metadata": {},
   "source": [
    "#### Метод lispace - генерує задану кількістю чисел у певному діапазоні, 50 чисел за замовчуванням"
   ]
  },
  {
   "cell_type": "code",
   "execution_count": null,
   "metadata": {},
   "outputs": [],
   "source": [
    "a = np.linspace(start, size_of_vec)\n",
    "print(f\"Згенерували {len(a)} чисел в діапазоні {a[0]} до {a[-1]}\")\n",
    "#print(f\"Власне числа: {a}\")\n",
    "print(\"\\n>>>>> Виведіть кожне друге число згенерованого діапазону. Тут будее потрібен цикл :) \\n\")\n",
    "\n",
    "print(\"Можна зменшити кількість чисел до 5:\")\n",
    "a = np.linspace(start, size_of_vec, 5)\n",
    "print(a)\n",
    "print(\"\\n>>>>> Збільшіть кількість чисел до 100. Виведіть перших та останніх 10. \\n\")\n",
    "\n",
    "print(\"\"\"Як бачимо перше та останнє значення завжди входять у згенерований діапазон. \n",
    "Відповідно при цьому вираховується крок.\n",
    "Це можна змінити, виключивши останнє значення з визначення діапазону.\n",
    "\"\"\")\n",
    "\n",
    "print(np.linspace(start, size_of_vec, 5, endpoint=False))\n",
    "print(\"\\n>>>>> Спробуйте самі порахуавти крок. \\n\")\n",
    "\n",
    "_, sp_1 = np.linspace(start, size_of_vec, 5, endpoint=True, retstep=True)\n",
    "_, sp_2 = np.linspace(start, size_of_vec, 5, endpoint=False, retstep=True)\n",
    "print(f\"Для порівняння, ми можемо визначити крок автоматично, у нашому випадку це {sp_1} та {sp_2}\")\n",
    "print(\"\\n>>>>> Чому маємо такий крок?. \\n\")"
   ]
  },
  {
   "cell_type": "markdown",
   "metadata": {},
   "source": [
    "### Типи масивів/векторів"
   ]
  },
  {
   "cell_type": "code",
   "execution_count": null,
   "metadata": {},
   "outputs": [],
   "source": [
    "examples = {\n",
    "    'Скляр': np.array(1), \n",
    "    'Вектор Рядок': np.array([1, 2, 3]), \n",
    "    'Вектор Стовпець': np.array([[1], [2], [3]]), \n",
    "    'Матриця': np.array([[1, 2],[3, 4], [5, 6]]),\n",
    "    'Багатовимірна Матриця': np.array([ [[111, 112], [121, 122]],\n",
    "                                        [[211, 212], [221, 222]],\n",
    "                                        [[311, 312], [321, 322]] ])\n",
    "    }\n",
    "for key in examples:\n",
    "    print(f\"Розглядаємо приклад з {key}. \\nЗначення x буде: \\n\", examples[key])\n",
    "    print(f\"Тип {key} x: \", type(examples[key]))\n",
    "    print(f\"Розмірність/вимір {key} x:\", np.ndim(examples[key]))\n",
    "    print(f\"Форма {key} x: \", examples[key].shape)\n",
    "    print(\"-=-\"*5)\n",
    "\n",
    "print(\"\"\"\\n>>>>> \n",
    "Як Ви думаєте чому маємо такий результат для функції np.ndim (Розмірність/вимір/dimension).\n",
    "Чому значення для ввекторі та матриць однакове та не співпдає з значенням shape?\n",
    "Задайте власні вектори з різними числами.\\n\"\"\")"
   ]
  },
  {
   "cell_type": "markdown",
   "metadata": {},
   "source": [
    "### a"
   ]
  },
  {
   "cell_type": "code",
   "execution_count": null,
   "metadata": {},
   "outputs": [],
   "source": []
  }
 ],
 "metadata": {
  "kernelspec": {
   "display_name": "Python 3.10.8 64-bit",
   "language": "python",
   "name": "python3"
  },
  "language_info": {
   "codemirror_mode": {
    "name": "ipython",
    "version": 3
   },
   "file_extension": ".py",
   "mimetype": "text/x-python",
   "name": "python",
   "nbconvert_exporter": "python",
   "pygments_lexer": "ipython3",
   "version": "3.10.8"
  },
  "orig_nbformat": 4,
  "vscode": {
   "interpreter": {
    "hash": "aee8b7b246df8f9039afb4144a1f6fd8d2ca17a180786b69acc140d282b71a49"
   }
  }
 },
 "nbformat": 4,
 "nbformat_minor": 2
}
