{
 "cells": [
  {
   "attachments": {},
   "cell_type": "markdown",
   "metadata": {},
   "source": [
    "# Статистичні операції над масивами"
   ]
  },
  {
   "cell_type": "code",
   "execution_count": null,
   "metadata": {},
   "outputs": [],
   "source": [
    "def homework(message):\n",
    "    print(\"\\n>>>>>\", message, \"\\n\")\n",
    "import numpy as np"
   ]
  },
  {
   "attachments": {},
   "cell_type": "markdown",
   "metadata": {},
   "source": [
    "## Генерація випадкових масивів та статистичні закони розподілу"
   ]
  },
  {
   "cell_type": "code",
   "execution_count": null,
   "metadata": {},
   "outputs": [],
   "source": [
    "C = np.array([[0.45053314, 0.17296777, 0.34376245, 0.5510652],\n",
    "              [0.54627315, 0.05093587, 0.40067661, 0.55645993],\n",
    "              [0.12697628, 0.82485143, 0.26590556, 0.56917101]])\n",
    "\n",
    "print(f\"\"\"Масив {C.shape} можна задавати вручну:\n",
    "{C}\n",
    "\"\"\")\n",
    "\n",
    "rng = np.random.default_rng()\n",
    "C = rng.random((3, 4))\n",
    "print(f\"\"\"Можна згенерувати випадковийтакоїж розморності {C.shape}:\n",
    "{C}\n",
    "\"\"\")\n",
    "\n",
    "rng = np.random.default_rng(seed=10)\n",
    "C = rng.random((3, 4))\n",
    "print(f\"\"\"Для того щоб згенерований масив {C.shape} мав завжди однакові значення використовуємо параметер seed:\n",
    "{C}\n",
    "\"\"\")\n",
    "\n",
    "I = rng.integers(0, 10, size=(3, 4), endpoint=True)\n",
    "print(f\"\"\"Можемо оперувати цілими числами (задаючи мін і макс):\n",
    "{I}\n",
    "\"\"\")"
   ]
  },
  {
   "attachments": {},
   "cell_type": "markdown",
   "metadata": {},
   "source": [
    "# Величини які характеризують множину чисел\n",
    "\n",
    "> Математичне сподівання `mean` - сума всіх елементів поділена на кількість;\n",
    "\n",
    "> Медіана `median` - середній елемент у відсортованому масиві (якщо таких елементи 2 то береться середнє значення);\n",
    "\n",
    "> Дисперсія (`variance`) - міра розсіяння випадкової величини від середнього (середнє арифметичне відхилення квадратів);\n",
    "\n",
    "> Стандартне відхилення (середнє квадратичне відхилення `std`) - ;"
   ]
  },
  {
   "cell_type": "code",
   "execution_count": null,
   "metadata": {},
   "outputs": [],
   "source": [
    "C =  np.array([1, 2, 5, 8, 9, 10]) # Для кращого розуміння розрахунків\n",
    "print(f\"\"\"Працюємо з останнім масивом:\n",
    "{C}\n",
    "\n",
    "Сума всіх елементів:    {C.sum()}\n",
    "Добуток всіх елементів: {C.prod()}\n",
    "\n",
    "Мінімальний елемент:    {C.min()}\n",
    "Максимальний елемент:   {C.max()}\n",
    "\n",
    "Середнє значення:       {C.mean()}  \\tте саме що {C.sum() / np.size(C)}\n",
    "Медіана:                {np.median(C)}      \n",
    "Дисперсія:              {C.var()}   \\tте саме що {np.sum((C - C.mean())**2 / C.size)}\n",
    "Відхилення:             {C.std()}   \\tте саме що {np.sqrt(C.var())}\n",
    "\n",
    "Заокруглили всі значення:\n",
    "{np.round(C)}\n",
    "Tа знайшли унікальні величини: {np.unique(np.round(C))}\n",
    "Та порахувавли кількість унікальних значеннь: {np.unique(np.round(C), return_counts=True)[1]}\n",
    "\"\"\")"
   ]
  },
  {
   "attachments": {},
   "cell_type": "markdown",
   "metadata": {},
   "source": [
    "> якщо маємо багатовимірний масив то застосовувати статистичні методи можна і до окремих рядків або стовпців, при цьому потрібно вказувати осі (`axis`) за якими буде здійснено розрахунки."
   ]
  },
  {
   "cell_type": "code",
   "execution_count": null,
   "metadata": {},
   "outputs": [],
   "source": [
    "C = C.reshape(2,3)\n",
    "print(f\"\"\"{C}\n",
    "\n",
    "Сума елементів по стовпцях:         {C.sum(axis=0)}\n",
    "Сума елементів по рядках:           {C.sum(axis=1)}\n",
    "\n",
    "Добуток елементів по стовпцях:      {C.prod(axis=0)}\n",
    "Добуток елементів по рядках:        {C.prod(axis=1)}\n",
    "\n",
    "Мінімальний елемент по стовпцях:    {C.min(axis=0)}\n",
    "Мінімальний елемент по рядках:      {C.min(axis=1)}\n",
    "Максимальний елемент по стовпцях:   {C.max(axis=0)}\n",
    "Максимальний елемент по рядках:     {C.max(axis=1)}\n",
    "\n",
    "Середнє значення по стовпцях:       {C.mean(axis=0)}\n",
    "Дисперсія по стовпцях:              {C.var(axis=0)}\n",
    "Відхилення по стовпцях:             {C.std(axis=0)}\n",
    "\n",
    "\"\"\")"
   ]
  }
 ],
 "metadata": {
  "kernelspec": {
   "display_name": "Python 3",
   "language": "python",
   "name": "python3"
  },
  "language_info": {
   "codemirror_mode": {
    "name": "ipython",
    "version": 3
   },
   "file_extension": ".py",
   "mimetype": "text/x-python",
   "name": "python",
   "nbconvert_exporter": "python",
   "pygments_lexer": "ipython3",
   "version": "3.11.1"
  },
  "orig_nbformat": 4,
  "vscode": {
   "interpreter": {
    "hash": "aee8b7b246df8f9039afb4144a1f6fd8d2ca17a180786b69acc140d282b71a49"
   }
  }
 },
 "nbformat": 4,
 "nbformat_minor": 2
}
