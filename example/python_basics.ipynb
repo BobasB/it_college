{
 "cells": [
  {
   "cell_type": "markdown",
   "metadata": {},
   "source": [
    "> початковий код, покращений з ChatGPT, буде оновлюватись"
   ]
  },
  {
   "cell_type": "markdown",
   "metadata": {},
   "source": [
    "# Робота зі змінними та типами даних"
   ]
  },
  {
   "cell_type": "code",
   "execution_count": null,
   "metadata": {},
   "outputs": [],
   "source": [
    "# Робота зі змінними та типами даних\n",
    "a = ''  # Це є змінна a, їй присвоєна пуста стрічка\n",
    "print(\"Значення змінної: \", a)  # Оскільки змінній a присвоєно пусту стрічку, результатом буде порожній рядок\n",
    "\n",
    "a = 'Тут вже буде стрічка'  # Переприсвоєння значення змінної a\n",
    "print(\"Значення змінної: \", a, \"\\nЦя змінна буде типу: \", type(a))  # Виведення значення змінної та її типу\n",
    "\n",
    "a = str(\"Це значення буде в об'єкті текстового типу\")  # Явне перетворення в рядок\n",
    "print(\"Значення змінної: \", a, \"\\nТут ми явно задаємо тип змінної. Тип буде: \", type(a))"
   ]
  },
  {
   "cell_type": "markdown",
   "metadata": {},
   "source": [
    "> зарезервовані слова та вбудовані функції"
   ]
  },
  {
   "cell_type": "code",
   "execution_count": null,
   "metadata": {},
   "outputs": [],
   "source": [
    "help(\"keywords\")\n",
    "import sys\n",
    "print(not True, 1 and 2)"
   ]
  },
  {
   "cell_type": "markdown",
   "metadata": {},
   "source": [
    "# Операції зі стрічками"
   ]
  },
  {
   "cell_type": "code",
   "execution_count": null,
   "metadata": {},
   "outputs": [],
   "source": [
    "\n",
    "# Операції зі стрічками\n",
    "print(\"Перевіряємо, чи дана стрічка має цифри: \", a.isdigit())  # Перевірка, чи рядок складається з цифр\n",
    "\n",
    "b = \"Це є продовження стрічки\"\n",
    "print(\"Значення змінної b є цифрою?\", b.isdigit())  # Перевірка для іншого рядка\n",
    "\n",
    "# Конкатенація стрічок\n",
    "c = a + \" \" + b\n",
    "print(\"Результат конкатенації двох рядків: \", c)\n",
    "\n",
    "# Множення стрічки на число\n",
    "d = \"Це будем множити на число\"\n",
    "print(\"Результат множення рядка на число: \", d * 5)\n",
    "\n",
    "# ООП підхід з використанням методу __add__\n",
    "e = d.__add__(\" Це ми додали до d\")\n",
    "print(\"Використовуючи метод __add__ отримаємо результат: \", e)\n"
   ]
  },
  {
   "cell_type": "markdown",
   "metadata": {},
   "source": [
    "# Конвертація типів даних"
   ]
  },
  {
   "cell_type": "code",
   "execution_count": null,
   "metadata": {},
   "outputs": [],
   "source": [
    "\n",
    "# Конвертація типів даних\n",
    "i = 5\n",
    "ii = int(i)\n",
    "print(\"Цілий тип даних:\", type(i), \"Його значення:\", i)\n",
    "\n",
    "f = 5.5\n",
    "ff = float(ii)\n",
    "print(\"Перетворюємо\", type(ii), \"на\", type(ff))\n",
    "print(\"Значення зміниться з\", ii, \"на\", ff)\n"
   ]
  },
  {
   "cell_type": "markdown",
   "metadata": {},
   "source": [
    "# Робота зі списками"
   ]
  },
  {
   "cell_type": "code",
   "execution_count": null,
   "metadata": {},
   "outputs": [],
   "source": [
    "\n",
    "# Робота зі списками\n",
    "l = [1, \"2\", 3]\n",
    "print(\"Початковий список:\", l)\n",
    "\n",
    "# Метод pop\n",
    "removed_element = l.pop(1)\n",
    "print(\"Елемент, який був видалений:\", removed_element)\n",
    "print(\"Модифікований список після pop:\", l)\n",
    "\n",
    "# Додавання елементу\n",
    "l.append(\"новий елемент\")\n",
    "print(\"Список після додавання елементу:\", l)\n"
   ]
  },
  {
   "cell_type": "markdown",
   "metadata": {},
   "source": [
    "# Функції та лямбда вирази"
   ]
  },
  {
   "cell_type": "code",
   "execution_count": null,
   "metadata": {},
   "outputs": [],
   "source": [
    "# Функції та лямбда вирази\n",
    "def check_if_value_is_none(value):\n",
    "    if value is None:\n",
    "        return \"Це None\"\n",
    "    else:\n",
    "        return f\"Це не None: {value}\"\n",
    "\n",
    "print(check_if_value_is_none(None))\n",
    "print(check_if_value_is_none(\"Yes\"))\n",
    "\n",
    "# Лямбда вираз\n",
    "lambda_func = lambda x: x + 10 if x > 10 else x - 10\n",
    "print(\"Результат роботи лямбди для числа 15:\", lambda_func(15))\n",
    "print(\"Результат роботи лямбди для числа 5:\", lambda_func(5))"
   ]
  },
  {
   "cell_type": "markdown",
   "metadata": {},
   "source": [
    "# Загальні приклади\n",
    "> виконання тестового коду"
   ]
  },
  {
   "cell_type": "code",
   "execution_count": null,
   "metadata": {},
   "outputs": [],
   "source": [
    "print(abs(-12.5) == abs(12.5))\n",
    "for i in range(5):\n",
    "    print(i)\n",
    "else:\n",
    "    print(\"Це буде виконано в будь-якому разі\")"
   ]
  },
  {
   "cell_type": "code",
   "execution_count": null,
   "metadata": {},
   "outputs": [],
   "source": [
    "from random import randint\n",
    "A = randint(0, 1)\n",
    "print(f\"Значить А={A}\" if A else \"Але може бути що А={}\".format(A))"
   ]
  },
  {
   "cell_type": "code",
   "execution_count": null,
   "metadata": {},
   "outputs": [],
   "source": [
    "with open(\"README.md\", \"r\") as f:\n",
    "    for _, line in enumerate(f):\n",
    "        print(f\"{_})> \", line)"
   ]
  },
  {
   "cell_type": "code",
   "execution_count": null,
   "metadata": {},
   "outputs": [],
   "source": [
    "def a_b_func(a, b):\n",
    "    return a, b\n",
    "this_is_lambda = lambda first, age: f'Цей код написав: {first}, Мені {age:10d} років'\n",
    "print(\"Це просто функція:\", a_b_func, \"\\nА це лямбда:\", this_is_lambda)\n",
    "print(\"Це її виклик:\", this_is_lambda('Богдан', 1_00_000))\n",
    "print(this_is_lambda(*a_b_func(\"a\", 1)))"
   ]
  },
  {
   "cell_type": "markdown",
   "metadata": {},
   "source": [
    "- приклад використання `else` у циклах, коли викликаємо `break` то `else` не виконується"
   ]
  },
  {
   "cell_type": "code",
   "execution_count": 1,
   "metadata": {},
   "outputs": [
    {
     "name": "stdout",
     "output_type": "stream",
     "text": [
      "2 is a prime number\n",
      "3 is a prime number\n",
      "4 equals 2 * 2.0\n",
      "5 is a prime number\n",
      "6 equals 2 * 3.0\n",
      "7 is a prime number\n",
      "8 equals 2 * 4.0\n",
      "9 equals 3 * 3.0\n"
     ]
    }
   ],
   "source": [
    "for n in range(2, 10):\n",
    "    for x in range(2, n):\n",
    "        if n % x == 0:\n",
    "            print( n, 'equals', x, '*', n/x)\n",
    "            break\n",
    "    else:\n",
    "        # loop fell through without finding a factor\n",
    "        print(n, 'is a prime number')"
   ]
  },
  {
   "cell_type": "markdown",
   "metadata": {},
   "source": []
  }
 ],
 "metadata": {
  "kernelspec": {
   "display_name": "3.13.7",
   "language": "python",
   "name": "python3"
  },
  "language_info": {
   "codemirror_mode": {
    "name": "ipython",
    "version": 3
   },
   "file_extension": ".py",
   "mimetype": "text/x-python",
   "name": "python",
   "nbconvert_exporter": "python",
   "pygments_lexer": "ipython3",
   "version": "3.13.7"
  },
  "orig_nbformat": 4
 },
 "nbformat": 4,
 "nbformat_minor": 2
}
