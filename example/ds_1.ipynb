{
 "cells": [
  {
   "cell_type": "code",
   "execution_count": 1,
   "metadata": {},
   "outputs": [],
   "source": [
    "import random"
   ]
  },
  {
   "cell_type": "code",
   "execution_count": 12,
   "metadata": {},
   "outputs": [],
   "source": [
    "def make_trunk(colors, dist, total_in_trunk):\n",
    "    total_dist = sum(dist)\n",
    "    \n",
    "    trunk = []\n",
    "    for (color, count) in zip(colors, dist):\n",
    "        num = count / total_dist * total_in_trunk\n",
    "        trunk.extend([color] * int(num))\n",
    "    random.shuffle(trunk)\n",
    "    \n",
    "    return trunk\n",
    "\n",
    "def sample_n(trunk, n):\n",
    "    sample = []\n",
    "    for i in range(n):\n",
    "        sample.append(trunk.pop())\n",
    "    return sample"
   ]
  },
  {
   "cell_type": "code",
   "execution_count": 3,
   "metadata": {},
   "outputs": [],
   "source": [
    "colors = ['chartreuse', 'green', 'blue', 'red',\n",
    "          'purple', 'pink', 'grey', 'black', 'white', 'brown']\n",
    "dist1 = [20, 11, 5, 22, 3, 50, 1,  1, 12, 19]\n",
    "dist2 = [20, 11, 5, 1,  3, 50, 20, 1, 20, 19]\n",
    "#                   ^^         ^^     ^^"
   ]
  },
  {
   "cell_type": "code",
   "execution_count": 7,
   "metadata": {},
   "outputs": [],
   "source": [
    "trunk1 = make_trunk(colors, dist1, 1e7)\n"
   ]
  },
  {
   "cell_type": "code",
   "execution_count": null,
   "metadata": {},
   "outputs": [],
   "source": [
    "len(trunk1)"
   ]
  },
  {
   "cell_type": "code",
   "execution_count": null,
   "metadata": {},
   "outputs": [],
   "source": [
    "trunk1.count('red') / len(trunk1)"
   ]
  },
  {
   "cell_type": "code",
   "execution_count": null,
   "metadata": {},
   "outputs": [],
   "source": [
    "dist1[3] / sum(dist1)"
   ]
  },
  {
   "cell_type": "code",
   "execution_count": null,
   "metadata": {},
   "outputs": [],
   "source": [
    "%pip install matplotlib"
   ]
  },
  {
   "cell_type": "code",
   "execution_count": 11,
   "metadata": {},
   "outputs": [],
   "source": [
    "import matplotlib.pyplot as plt"
   ]
  },
  {
   "cell_type": "code",
   "execution_count": 14,
   "metadata": {},
   "outputs": [],
   "source": [
    "red_fraction = []"
   ]
  },
  {
   "cell_type": "code",
   "execution_count": null,
   "metadata": {},
   "outputs": [],
   "source": [
    "sample = sample_n(trunk1, 100)\n",
    "f = sample.count('red') / len(sample)\n",
    "red_fraction.append(f)\n",
    "plt.hist(red_fraction)"
   ]
  },
  {
   "cell_type": "code",
   "execution_count": null,
   "metadata": {},
   "outputs": [],
   "source": [
    "red_fraction"
   ]
  }
 ],
 "metadata": {
  "kernelspec": {
   "display_name": "Python 3",
   "language": "python",
   "name": "python3"
  },
  "language_info": {
   "codemirror_mode": {
    "name": "ipython",
    "version": 3
   },
   "file_extension": ".py",
   "mimetype": "text/x-python",
   "name": "python",
   "nbconvert_exporter": "python",
   "pygments_lexer": "ipython3",
   "version": "3.12.3"
  }
 },
 "nbformat": 4,
 "nbformat_minor": 2
}
