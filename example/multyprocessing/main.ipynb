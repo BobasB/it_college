{
 "cells": [
  {
   "cell_type": "markdown",
   "metadata": {},
   "source": [
    "# Web Scraper with Heavy Post-Processing\n",
    "🧠 Project Goals\n",
    "1. Asynchronously fetch HTML content from a list of URLs.\n",
    "1. Save raw HTML temporarily (or keep in memory).\n",
    "1. Use multiprocessing to parse HTML (e.g., extract title, links, text).\n",
    "1. Log progress and performance."
   ]
  },
  {
   "cell_type": "markdown",
   "metadata": {},
   "source": [
    "`tqdm` is a powerful, lightweight, and easy-to-use progress bar tool.\n",
    "✅ Інсталяція бібліотек"
   ]
  },
  {
   "cell_type": "code",
   "execution_count": null,
   "metadata": {},
   "outputs": [],
   "source": [
    "%pip install tqdm ipywidgets"
   ]
  },
  {
   "cell_type": "markdown",
   "metadata": {},
   "source": [
    "### простий приклад використання"
   ]
  },
  {
   "cell_type": "code",
   "execution_count": null,
   "metadata": {},
   "outputs": [],
   "source": [
    "from tqdm.notebook import tqdm\n",
    "# for scripts\n",
    "#from tqdm import tqdm\n",
    "import time\n",
    "\n",
    "#items = range(10)\n",
    "items = [\"apple\", \"banana\", \"orange\", \"kiwi\"]\n",
    "\n",
    "# якщо є прінт то статус бар перестворюється\n",
    "for i in tqdm(items, desc=\"Статус бар у циклі\"):\n",
    "    time.sleep(0.5)\n",
    "    print(f\"Опрацьовуємо: {i}\")\n",
    "\n",
    "# краще робити з лісткомпрехенш\n",
    "squared = [x*x for x in tqdm(range(1000))]"
   ]
  },
  {
   "cell_type": "markdown",
   "metadata": {},
   "source": [
    "### використання багатопоточності"
   ]
  },
  {
   "cell_type": "code",
   "execution_count": null,
   "metadata": {},
   "outputs": [],
   "source": [
    "from concurrent.futures import ThreadPoolExecutor\n",
    "from tqdm.notebook import tqdm\n",
    "import math\n",
    "\n",
    "\n",
    "def task(x):\n",
    "    time.sleep(0.5)\n",
    "    return math.sqrt(x^3) * math.exp(x)\n",
    "\n",
    "with ThreadPoolExecutor(max_workers=4) as executor:\n",
    "    results = list(tqdm(executor.map(task, range(20)), total=20))\n"
   ]
  },
  {
   "cell_type": "markdown",
   "metadata": {},
   "source": [
    "### приклад відвідування сайту який має затримку 1с"
   ]
  },
  {
   "cell_type": "code",
   "execution_count": 9,
   "metadata": {},
   "outputs": [
    {
     "data": {
      "application/vnd.jupyter.widget-view+json": {
       "model_id": "abdaebf04fa24f5bb378ccb7cae182d4",
       "version_major": 2,
       "version_minor": 0
      },
      "text/plain": [
       "Scraping:   0%|          | 0/20 [00:00<?, ?it/s]"
      ]
     },
     "metadata": {},
     "output_type": "display_data"
    },
    {
     "name": "stdout",
     "output_type": "stream",
     "text": [
      "\n",
      "✅ Done in 7.63 seconds.\n",
      "\n",
      "https://httpbin.org/delay/1 -> 200\n",
      "https://httpbin.org/delay/1 -> 200\n",
      "https://httpbin.org/delay/1 -> 200\n",
      "https://httpbin.org/delay/1 -> 200\n",
      "https://httpbin.org/delay/1 -> 200\n",
      "https://httpbin.org/delay/1 -> 200\n",
      "https://httpbin.org/delay/1 -> 200\n",
      "https://httpbin.org/delay/1 -> 200\n",
      "https://httpbin.org/delay/1 -> 200\n",
      "https://httpbin.org/delay/1 -> 200\n",
      "https://httpbin.org/delay/1 -> 200\n",
      "https://httpbin.org/delay/1 -> 200\n",
      "https://httpbin.org/delay/1 -> 200\n",
      "https://httpbin.org/delay/1 -> 200\n",
      "https://httpbin.org/delay/1 -> 200\n",
      "https://httpbin.org/delay/1 -> 200\n",
      "https://httpbin.org/delay/1 -> 200\n",
      "https://httpbin.org/delay/1 -> 200\n",
      "https://httpbin.org/delay/1 -> 200\n",
      "https://httpbin.org/delay/1 -> 200\n"
     ]
    }
   ],
   "source": [
    "import requests\n",
    "from concurrent.futures import ThreadPoolExecutor\n",
    "from tqdm.notebook import tqdm\n",
    "import time\n",
    "\n",
    "# --- Simulate a URL fetch ---\n",
    "def fetch_url(url):\n",
    "    try:\n",
    "        response = requests.get(url, timeout=5)\n",
    "        return (url, response.status_code)\n",
    "    except Exception as e:\n",
    "        return (url, str(e))\n",
    "\n",
    "# --- Wrapper for tqdm with multiprocessing ---\n",
    "def parallel_scrape(urls, workers=4):\n",
    "    with ThreadPoolExecutor(max_workers=workers) as executor:\n",
    "        results = list(tqdm(executor.map(fetch_url, urls), total=len(urls), desc=\"Scraping\"))\n",
    "    return results\n",
    "\n",
    "# --- Usage example ---\n",
    "if __name__ == \"__main__\":\n",
    "    # Simulate test URLs (you can replace these with real ones)\n",
    "    base_url = \"https://httpbin.org/delay/1\"  # Simulates 1 second delay\n",
    "    urls = [base_url for _ in range(20)]  # 20 URLs\n",
    "\n",
    "    start = time.time()\n",
    "    results = parallel_scrape(urls, workers=5)\n",
    "    end = time.time()\n",
    "\n",
    "    print(f\"\\n✅ Done in {end - start:.2f} seconds.\\n\")\n",
    "\n",
    "    # Show results\n",
    "    for url, status in results:\n",
    "        print(f\"{url} -> {status}\")\n"
   ]
  }
 ],
 "metadata": {
  "kernelspec": {
   "display_name": "Python 3",
   "language": "python",
   "name": "python3"
  },
  "language_info": {
   "codemirror_mode": {
    "name": "ipython",
    "version": 3
   },
   "file_extension": ".py",
   "mimetype": "text/x-python",
   "name": "python",
   "nbconvert_exporter": "python",
   "pygments_lexer": "ipython3",
   "version": "3.12.9"
  }
 },
 "nbformat": 4,
 "nbformat_minor": 2
}
